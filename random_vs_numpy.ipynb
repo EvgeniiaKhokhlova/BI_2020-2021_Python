{
 "cells": [
  {
   "cell_type": "code",
   "execution_count": 2,
   "metadata": {},
   "outputs": [],
   "source": [
    "import random\n",
    "import numpy as np\n",
    "import time\n",
    "import matplotlib.pyplot as plt\n",
    "import seaborn as sns\n"
   ]
  },
  {
   "cell_type": "code",
   "execution_count": 23,
   "metadata": {},
   "outputs": [
    {
     "data": {
      "image/png": "[encoded data removed]",
      "text/plain": [
       "<Figure size 432x288 with 1 Axes>"
      ]
     },
     "metadata": {
      "needs_background": "light"
     },
     "output_type": "display_data"
    }
   ],
   "source": [
    "def random_vs_numpy():\n",
    "    \n",
    "    time_random = []\n",
    "    time_numpy = []\n",
    "    \n",
    "    for n in range(10, 1000):\n",
    "        start = time.process_time()\n",
    "        [random.uniform(0, 1) for i in range(n)]\n",
    "        time_random.append(time.process_time() - start)\n",
    "\n",
    "    for n in range(10, 1000):\n",
    "        start = time.process_time()\n",
    "        np.random.uniform(size = n)\n",
    "        time_numpy.append(time.process_time() - start)\n",
    "    \n",
    "    y = [i for i in range(10, 1000)]\n",
    "    plt.scatter(y, time_random, color='red')\n",
    "    plt.scatter(y, time_numpy, color='blue')\n",
    "    plt.title=\"Time dependence of calculating random numbers\",\n",
    "    plt.xlabel('Amount of numbers')\n",
    "    plt.ylabel('Time')\n",
    "    plt.legend(['Random', 'Numpy'])\n",
    "    plt.savefig('random_vs_numpy.png', format='png')\n",
    "    \n",
    "random_vs_numpy()\n"
   ]
  },
  {
   "cell_type": "code",
   "execution_count": null,
   "metadata": {},
   "outputs": [],
   "source": []
  },
  {
   "cell_type": "code",
   "execution_count": null,
   "metadata": {},
   "outputs": [],
   "source": [
    "    "
   ]
  },
  {
   "cell_type": "code",
   "execution_count": null,
   "metadata": {},
   "outputs": [],
   "source": [
    "\n"
   ]
  },
  {
   "cell_type": "code",
   "execution_count": null,
   "metadata": {},
   "outputs": [],
   "source": []
  },
  {
   "cell_type": "code",
   "execution_count": null,
   "metadata": {},
   "outputs": [],
   "source": []
  }
 ],
 "metadata": {
  "kernelspec": {
   "display_name": "Python 3",
   "language": "python",
   "name": "python3"
  },
  "language_info": {
   "codemirror_mode": {
    "name": "ipython",
    "version": 3
   },
   "file_extension": ".py",
   "mimetype": "text/x-python",
   "name": "python",
   "nbconvert_exporter": "python",
   "pygments_lexer": "ipython3",
   "version": "3.8.5"
  }
 },
 "nbformat": 4,
 "nbformat_minor": 4
}
