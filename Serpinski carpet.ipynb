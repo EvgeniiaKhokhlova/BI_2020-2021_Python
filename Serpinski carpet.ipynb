{
 "cells": [
  {
   "cell_type": "code",
   "execution_count": 20,
   "metadata": {},
   "outputs": [
    {
     "data": {
      "image/png": "[encoded data removed]",
      "text/plain": [
       "<Figure size 504x360 with 1 Axes>"
      ]
     },
     "metadata": {
      "needs_background": "light"
     },
     "output_type": "display_data"
    }
   ],
   "source": [
    "import numpy as np\n",
    "import matplotlib.pyplot as plt\n",
    "plt.rcParams['figure.figsize']=(7,5)\n",
    "\n",
    "def fill_square(x1, y1, size, img):\n",
    "    for x in range(x1, x1+size):\n",
    "        for y in range(y1, y1+size):\n",
    "            img[x, y] = 0\n",
    "    return img\n",
    "\n",
    "img = np.ones((size, size), dtype=np.uint8)\n",
    "\n",
    "for level in range(1, levels+1):\n",
    "    square_size = int(size/(3**level))\n",
    "    for x in range(0, 3**level, 3):\n",
    "        x = int((x+1)*square_size)\n",
    "        for y in range(0, 3**level, 3):\n",
    "            y = int((y+1)*square_size)\n",
    "            img = fill_square(x, y, square_size, img)\n",
    "\n",
    "\n",
    "plt.axis('off')\n",
    "plt.imshow(img, cmap='binary')\n",
    "\n",
    "plt.show()"
   ]
  },
  {
   "cell_type": "code",
   "execution_count": null,
   "metadata": {},
   "outputs": [],
   "source": []
  }
 ],
 "metadata": {
  "kernelspec": {
   "display_name": "Python 3",
   "language": "python",
   "name": "python3"
  },
  "language_info": {
   "codemirror_mode": {
    "name": "ipython",
    "version": 3
   },
   "file_extension": ".py",
   "mimetype": "text/x-python",
   "name": "python",
   "nbconvert_exporter": "python",
   "pygments_lexer": "ipython3",
   "version": "3.8.5"
  }
 },
 "nbformat": 4,
 "nbformat_minor": 4
}
