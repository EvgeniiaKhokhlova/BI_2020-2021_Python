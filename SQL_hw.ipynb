{
 "cells": [
  {
   "cell_type": "code",
   "execution_count": 2,
   "metadata": {},
   "outputs": [],
   "source": [
    "import sqlite3\n",
    "import pandas as pd"
   ]
  },
  {
   "cell_type": "code",
   "execution_count": null,
   "metadata": {},
   "outputs": [],
   "source": []
  },
  {
   "cell_type": "code",
   "execution_count": null,
   "metadata": {},
   "outputs": [],
   "source": []
  },
  {
   "cell_type": "code",
   "execution_count": 3,
   "metadata": {},
   "outputs": [
    {
     "data": {
      "text/html": [
       "<div>\n",
       "<style scoped>\n",
       "    .dataframe tbody tr th:only-of-type {\n",
       "        vertical-align: middle;\n",
       "    }\n",
       "\n",
       "    .dataframe tbody tr th {\n",
       "        vertical-align: top;\n",
       "    }\n",
       "\n",
       "    .dataframe thead th {\n",
       "        text-align: right;\n",
       "    }\n",
       "</style>\n",
       "<table border=\"1\" class=\"dataframe\">\n",
       "  <thead>\n",
       "    <tr style=\"text-align: right;\">\n",
       "      <th></th>\n",
       "      <th>ID</th>\n",
       "      <th>Name</th>\n",
       "      <th>Year</th>\n",
       "      <th>Country</th>\n",
       "      <th>Countries</th>\n",
       "      <th>Category</th>\n",
       "      <th>Gender</th>\n",
       "      <th>Details</th>\n",
       "      <th>Description</th>\n",
       "    </tr>\n",
       "  </thead>\n",
       "  <tbody>\n",
       "    <tr>\n",
       "      <th>0</th>\n",
       "      <td>1</td>\n",
       "      <td>14th Dalai Lama</td>\n",
       "      <td>1989</td>\n",
       "      <td>Tibet</td>\n",
       "      <td>Tibet</td>\n",
       "      <td>Peace</td>\n",
       "      <td>Man</td>\n",
       "      <td>born in Tibet</td>\n",
       "      <td>NaN</td>\n",
       "    </tr>\n",
       "    <tr>\n",
       "      <th>1</th>\n",
       "      <td>2</td>\n",
       "      <td>A. Michael Spence</td>\n",
       "      <td>2001</td>\n",
       "      <td>United States</td>\n",
       "      <td>United States</td>\n",
       "      <td>Economics</td>\n",
       "      <td>Man</td>\n",
       "      <td>NaN</td>\n",
       "      <td>NaN</td>\n",
       "    </tr>\n",
       "    <tr>\n",
       "      <th>2</th>\n",
       "      <td>3</td>\n",
       "      <td>Aage Bohr</td>\n",
       "      <td>1975</td>\n",
       "      <td>Denmark</td>\n",
       "      <td>Denmark</td>\n",
       "      <td>Physics</td>\n",
       "      <td>Man</td>\n",
       "      <td>NaN</td>\n",
       "      <td>NaN</td>\n",
       "    </tr>\n",
       "    <tr>\n",
       "      <th>3</th>\n",
       "      <td>4</td>\n",
       "      <td>Aaron Ciechanover</td>\n",
       "      <td>2004</td>\n",
       "      <td>Israel</td>\n",
       "      <td>Israel</td>\n",
       "      <td>Chemistry</td>\n",
       "      <td>Man</td>\n",
       "      <td>NaN</td>\n",
       "      <td>NaN</td>\n",
       "    </tr>\n",
       "    <tr>\n",
       "      <th>4</th>\n",
       "      <td>5</td>\n",
       "      <td>Aaron Klug</td>\n",
       "      <td>1982</td>\n",
       "      <td>Lithuania</td>\n",
       "      <td>Lithuania</td>\n",
       "      <td>Chemistry</td>\n",
       "      <td>Man</td>\n",
       "      <td>NaN</td>\n",
       "      <td>NaN</td>\n",
       "    </tr>\n",
       "    <tr>\n",
       "      <th>...</th>\n",
       "      <td>...</td>\n",
       "      <td>...</td>\n",
       "      <td>...</td>\n",
       "      <td>...</td>\n",
       "      <td>...</td>\n",
       "      <td>...</td>\n",
       "      <td>...</td>\n",
       "      <td>...</td>\n",
       "      <td>...</td>\n",
       "    </tr>\n",
       "    <tr>\n",
       "      <th>1149</th>\n",
       "      <td>1150</td>\n",
       "      <td>Emmanuelle Charpentier</td>\n",
       "      <td>2020</td>\n",
       "      <td>France</td>\n",
       "      <td>NaN</td>\n",
       "      <td>Chemistry</td>\n",
       "      <td>Woman</td>\n",
       "      <td>NaN</td>\n",
       "      <td>“For the development of a method For genome ed...</td>\n",
       "    </tr>\n",
       "    <tr>\n",
       "      <th>1150</th>\n",
       "      <td>1151</td>\n",
       "      <td>Jennifer Doudna</td>\n",
       "      <td>2020</td>\n",
       "      <td>United States</td>\n",
       "      <td>NaN</td>\n",
       "      <td>Chemistry</td>\n",
       "      <td>Woman</td>\n",
       "      <td>NaN</td>\n",
       "      <td>“For the development of a method For genome ed...</td>\n",
       "    </tr>\n",
       "    <tr>\n",
       "      <th>1151</th>\n",
       "      <td>1152</td>\n",
       "      <td>Roger Penrose</td>\n",
       "      <td>2020</td>\n",
       "      <td>United Kingdom</td>\n",
       "      <td>NaN</td>\n",
       "      <td>Physics</td>\n",
       "      <td>Man</td>\n",
       "      <td>NaN</td>\n",
       "      <td>“For the discovery that black hole Formation i...</td>\n",
       "    </tr>\n",
       "    <tr>\n",
       "      <th>1152</th>\n",
       "      <td>1153</td>\n",
       "      <td>Reinhard Genzel</td>\n",
       "      <td>2020</td>\n",
       "      <td>Germany</td>\n",
       "      <td>NaN</td>\n",
       "      <td>Physics</td>\n",
       "      <td>Man</td>\n",
       "      <td>NaN</td>\n",
       "      <td>“For the discovery of a supermassive compact o...</td>\n",
       "    </tr>\n",
       "    <tr>\n",
       "      <th>1153</th>\n",
       "      <td>1154</td>\n",
       "      <td>Andrea M. Ghez</td>\n",
       "      <td>2020</td>\n",
       "      <td>United States</td>\n",
       "      <td>NaN</td>\n",
       "      <td>Physics</td>\n",
       "      <td>Woman</td>\n",
       "      <td>NaN</td>\n",
       "      <td>“For the discovery of a supermassive compact o...</td>\n",
       "    </tr>\n",
       "  </tbody>\n",
       "</table>\n",
       "<p>1154 rows × 9 columns</p>\n",
       "</div>"
      ],
      "text/plain": [
       "        ID                    Name  Year         Country      Countries  \\\n",
       "0        1         14th Dalai Lama  1989           Tibet          Tibet   \n",
       "1        2       A. Michael Spence  2001   United States  United States   \n",
       "2        3               Aage Bohr  1975         Denmark        Denmark   \n",
       "3        4       Aaron Ciechanover  2004          Israel         Israel   \n",
       "4        5              Aaron Klug  1982       Lithuania      Lithuania   \n",
       "...    ...                     ...   ...             ...            ...   \n",
       "1149  1150  Emmanuelle Charpentier  2020          France            NaN   \n",
       "1150  1151         Jennifer Doudna  2020   United States            NaN   \n",
       "1151  1152           Roger Penrose  2020  United Kingdom            NaN   \n",
       "1152  1153         Reinhard Genzel  2020         Germany            NaN   \n",
       "1153  1154          Andrea M. Ghez  2020   United States            NaN   \n",
       "\n",
       "       Category Gender         Details  \\\n",
       "0         Peace    Man   born in Tibet   \n",
       "1     Economics    Man             NaN   \n",
       "2       Physics    Man             NaN   \n",
       "3     Chemistry    Man             NaN   \n",
       "4     Chemistry    Man             NaN   \n",
       "...         ...    ...             ...   \n",
       "1149  Chemistry  Woman             NaN   \n",
       "1150  Chemistry  Woman             NaN   \n",
       "1151    Physics    Man             NaN   \n",
       "1152    Physics    Man             NaN   \n",
       "1153    Physics  Woman             NaN   \n",
       "\n",
       "                                            Description  \n",
       "0                                                   NaN  \n",
       "1                                                   NaN  \n",
       "2                                                   NaN  \n",
       "3                                                   NaN  \n",
       "4                                                   NaN  \n",
       "...                                                 ...  \n",
       "1149  “For the development of a method For genome ed...  \n",
       "1150  “For the development of a method For genome ed...  \n",
       "1151  “For the discovery that black hole Formation i...  \n",
       "1152  “For the discovery of a supermassive compact o...  \n",
       "1153  “For the discovery of a supermassive compact o...  \n",
       "\n",
       "[1154 rows x 9 columns]"
      ]
     },
     "execution_count": 3,
     "metadata": {},
     "output_type": "execute_result"
    }
   ],
   "source": [
    "#Loading data\n",
    "\n",
    "data = pd.read_csv(\"nobel_winners.csv\").drop('Unnamed: 0', axis=1)\n",
    "data"
   ]
  },
  {
   "cell_type": "code",
   "execution_count": 4,
   "metadata": {},
   "outputs": [
    {
     "data": {
      "text/html": [
       "<div>\n",
       "<style scoped>\n",
       "    .dataframe tbody tr th:only-of-type {\n",
       "        vertical-align: middle;\n",
       "    }\n",
       "\n",
       "    .dataframe tbody tr th {\n",
       "        vertical-align: top;\n",
       "    }\n",
       "\n",
       "    .dataframe thead th {\n",
       "        text-align: right;\n",
       "    }\n",
       "</style>\n",
       "<table border=\"1\" class=\"dataframe\">\n",
       "  <thead>\n",
       "    <tr style=\"text-align: right;\">\n",
       "      <th></th>\n",
       "      <th>ID</th>\n",
       "      <th>Name</th>\n",
       "      <th>Year_of_birth</th>\n",
       "      <th>Gender</th>\n",
       "    </tr>\n",
       "  </thead>\n",
       "  <tbody>\n",
       "    <tr>\n",
       "      <th>0</th>\n",
       "      <td>1</td>\n",
       "      <td>14th Dalai Lama</td>\n",
       "      <td>1935</td>\n",
       "      <td>Man</td>\n",
       "    </tr>\n",
       "    <tr>\n",
       "      <th>1</th>\n",
       "      <td>2</td>\n",
       "      <td>A. Michael Spence</td>\n",
       "      <td>1943</td>\n",
       "      <td>Man</td>\n",
       "    </tr>\n",
       "    <tr>\n",
       "      <th>2</th>\n",
       "      <td>3</td>\n",
       "      <td>Aage Bohr</td>\n",
       "      <td>1922</td>\n",
       "      <td>Man</td>\n",
       "    </tr>\n",
       "    <tr>\n",
       "      <th>3</th>\n",
       "      <td>4</td>\n",
       "      <td>Aaron Ciechanover</td>\n",
       "      <td>1947</td>\n",
       "      <td>Man</td>\n",
       "    </tr>\n",
       "    <tr>\n",
       "      <th>4</th>\n",
       "      <td>5</td>\n",
       "      <td>Aaron Klug</td>\n",
       "      <td>1926</td>\n",
       "      <td>Man</td>\n",
       "    </tr>\n",
       "  </tbody>\n",
       "</table>\n",
       "</div>"
      ],
      "text/plain": [
       "  ID               Name Year_of_birth Gender\n",
       "0  1    14th Dalai Lama          1935    Man\n",
       "1  2  A. Michael Spence          1943    Man\n",
       "2  3          Aage Bohr          1922    Man\n",
       "3  4  Aaron Ciechanover          1947    Man\n",
       "4  5         Aaron Klug          1926    Man"
      ]
     },
     "execution_count": 4,
     "metadata": {},
     "output_type": "execute_result"
    }
   ],
   "source": [
    "data2 = {'ID':  ['1', '2','3','4','5'],\n",
    "        'Name': ['14th Dalai Lama', 'A. Michael Spence', 'Aage Bohr','Aaron Ciechanover','Aaron Klug'],\n",
    "        'Year_of_birth': ['1935', '1943','1922','1947','1926'], 'Gender': ['Man', 'Man','Man','Man','Man'],\n",
    "        }\n",
    "df = pd.DataFrame(data2, columns = ['ID','Name','Year_of_birth', 'Gender'])\n",
    "df"
   ]
  },
  {
   "cell_type": "code",
   "execution_count": 5,
   "metadata": {},
   "outputs": [],
   "source": [
    "#Create database\n",
    "\n",
    "connection = sqlite3.connect('winners.db')"
   ]
  },
  {
   "cell_type": "code",
   "execution_count": 6,
   "metadata": {},
   "outputs": [
    {
     "data": {
      "text/plain": [
       "<sqlite3.Cursor at 0x7f888669b420>"
      ]
     },
     "execution_count": 6,
     "metadata": {},
     "output_type": "execute_result"
    }
   ],
   "source": [
    "connection.execute(\"PRAGMA foreign_keys = ON\")"
   ]
  },
  {
   "cell_type": "code",
   "execution_count": 7,
   "metadata": {},
   "outputs": [
    {
     "data": {
      "text/plain": [
       "<sqlite3.Cursor at 0x7f888669b570>"
      ]
     },
     "execution_count": 7,
     "metadata": {},
     "output_type": "execute_result"
    }
   ],
   "source": [
    "connection.execute('''CREATE TABLE IF NOT EXISTS winners \n",
    "(ID INTEGER PRIMARY KEY,\n",
    "Name TEXT,\n",
    "Year INTEGER,\n",
    "Country TEXT,\n",
    "Countries TEXT,\n",
    "Category TEXT, \n",
    "Gender TEXT, \n",
    "Details TEXT,\n",
    "Description TEXT)''')"
   ]
  },
  {
   "cell_type": "code",
   "execution_count": 8,
   "metadata": {},
   "outputs": [
    {
     "data": {
      "text/plain": [
       "<sqlite3.Cursor at 0x7f888669b7a0>"
      ]
     },
     "execution_count": 8,
     "metadata": {},
     "output_type": "execute_result"
    }
   ],
   "source": [
    "connection.execute('''CREATE TABLE IF NOT EXISTS winners_info \n",
    "(ID INTEGER PRIMARY KEY,\n",
    "Name TEXT,\n",
    "Year_of_birth INTEGER, \n",
    "Gender INTEGER,\n",
    "FOREIGN KEY (ID) REFERENCES winners (ID)\n",
    "ON UPDATE CASCADE\n",
    "ON DELETE CASCADE)''')"
   ]
  },
  {
   "cell_type": "code",
   "execution_count": 10,
   "metadata": {},
   "outputs": [],
   "source": [
    "data.to_sql('winners', connection, if_exists='append', index = False)"
   ]
  },
  {
   "cell_type": "code",
   "execution_count": 11,
   "metadata": {},
   "outputs": [],
   "source": [
    "df.to_sql('winners_info', connection, if_exists='append', index = False)"
   ]
  },
  {
   "cell_type": "code",
   "execution_count": 12,
   "metadata": {},
   "outputs": [
    {
     "data": {
      "text/plain": [
       "[(1,\n",
       "  '14th Dalai Lama',\n",
       "  1989,\n",
       "  'Tibet',\n",
       "  'Tibet',\n",
       "  'Peace',\n",
       "  'Man',\n",
       "  '\\xa0born in Tibet',\n",
       "  None),\n",
       " (2,\n",
       "  'A. Michael Spence',\n",
       "  2001,\n",
       "  'United States',\n",
       "  'United States',\n",
       "  'Economics',\n",
       "  'Man',\n",
       "  None,\n",
       "  None),\n",
       " (3, 'Aage Bohr', 1975, 'Denmark', 'Denmark', 'Physics', 'Man', None, None)]"
      ]
     },
     "execution_count": 12,
     "metadata": {},
     "output_type": "execute_result"
    }
   ],
   "source": [
    "#CASCADE\n",
    "\n",
    "query = ''' DELETE FROM winners_info WHERE \"Name\" = \"Aage Bohr\"'''\n",
    "\n",
    "connection.execute(query)\n",
    "\n",
    "connection.commit()\n",
    "\n",
    "connection.execute('''SELECT * FROM winners''').fetchmany(3)\n",
    "\n",
    "#We see, that deleting something from the child database doesn't affect the parent's database"
   ]
  },
  {
   "cell_type": "code",
   "execution_count": 13,
   "metadata": {},
   "outputs": [
    {
     "data": {
      "text/plain": [
       "[(1, '14th Dalai Lama', 1935, 'Man'),\n",
       " (2, 'A. Michael Spence', 1943, 'Man'),\n",
       " (4, 'Aaron Ciechanover', 1947, 'Man')]"
      ]
     },
     "execution_count": 13,
     "metadata": {},
     "output_type": "execute_result"
    }
   ],
   "source": [
    "\n",
    "query = ''' DELETE FROM winners WHERE \"Name\" = \"Aage Bohr\"'''\n",
    "\n",
    "connection.execute(query)\n",
    "\n",
    "connection.commit()\n",
    "\n",
    "connection.execute('''SELECT * FROM winners_info''').fetchmany(3)\n",
    "\n",
    "# But, if we delete some information from the parent's database it will also delete from the child database"
   ]
  },
  {
   "cell_type": "code",
   "execution_count": 14,
   "metadata": {},
   "outputs": [
    {
     "data": {
      "text/plain": [
       "(1,\n",
       " '14th Dalai Lama',\n",
       " 1989,\n",
       " 'Tibet',\n",
       " 'Tibet',\n",
       " 'Peace',\n",
       " 'Man',\n",
       " '\\xa0born in Tibet',\n",
       " 'For advocating peaceful solutions based upon tolerance and mutual respect in order to preserve the historical and cultural heritage of his people')"
      ]
     },
     "execution_count": 14,
     "metadata": {},
     "output_type": "execute_result"
    }
   ],
   "source": [
    "#UPDATE\n",
    "# Let's add some description to the first row\n",
    "\n",
    "query = '''UPDATE winners SET Description = 'For advocating peaceful solutions based upon tolerance and mutual respect in order to preserve the historical and cultural heritage of his people' WHERE ID = 1'''\n",
    "\n",
    "connection.execute(query)\n",
    "\n",
    "connection.commit()\n",
    "\n",
    "connection.execute('''SELECT * FROM winners''').fetchone()"
   ]
  },
  {
   "cell_type": "code",
   "execution_count": 16,
   "metadata": {},
   "outputs": [
    {
     "data": {
      "text/plain": [
       "[(2,\n",
       "  'A. Michael Spence',\n",
       "  2001,\n",
       "  'United States',\n",
       "  'United States',\n",
       "  'Economics',\n",
       "  'Man',\n",
       "  None,\n",
       "  None),\n",
       " (4,\n",
       "  'Aaron Ciechanover',\n",
       "  2004,\n",
       "  'Israel',\n",
       "  'Israel',\n",
       "  'Chemistry',\n",
       "  'Man',\n",
       "  None,\n",
       "  None),\n",
       " (9,\n",
       "  'Abhijit Banerjee',\n",
       "  2019,\n",
       "  'India',\n",
       "  'India',\n",
       "  'Economics',\n",
       "  'Man',\n",
       "  None,\n",
       "  None)]"
      ]
     },
     "execution_count": 16,
     "metadata": {},
     "output_type": "execute_result"
    }
   ],
   "source": [
    "#DELETE\n",
    "#And delete all information about Nobel prize winners before 2000 years\n",
    "\n",
    "query = '''DELETE FROM winners WHERE Year < 2000'''\n",
    "\n",
    "connection.execute(query)\n",
    "\n",
    "connection.commit()\n",
    "\n",
    "connection.execute('''SELECT * FROM winners''').fetchmany(3)"
   ]
  },
  {
   "cell_type": "code",
   "execution_count": 17,
   "metadata": {},
   "outputs": [],
   "source": [
    "connection.commit()"
   ]
  },
  {
   "cell_type": "code",
   "execution_count": 18,
   "metadata": {},
   "outputs": [],
   "source": [
    "connection.close()"
   ]
  }
 ],
 "metadata": {
  "kernelspec": {
   "display_name": "Python 3",
   "language": "python",
   "name": "python3"
  },
  "language_info": {
   "codemirror_mode": {
    "name": "ipython",
    "version": 3
   },
   "file_extension": ".py",
   "mimetype": "text/x-python",
   "name": "python",
   "nbconvert_exporter": "python",
   "pygments_lexer": "ipython3",
   "version": "3.8.5"
  }
 },
 "nbformat": 4,
 "nbformat_minor": 4
}
